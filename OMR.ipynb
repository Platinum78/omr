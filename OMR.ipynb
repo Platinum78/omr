{
 "cells": [
  {
   "cell_type": "code",
   "execution_count": 1,
   "metadata": {},
   "outputs": [],
   "source": [
    "import matplotlib.pyplot as plt\n",
    "import OMR_base_class as omr\n",
    "import os"
   ]
  },
  {
   "cell_type": "code",
   "execution_count": 2,
   "metadata": {},
   "outputs": [
    {
     "name": "stdout",
     "output_type": "stream",
     "text": [
      "Solutions:  [[2], [1], [3], [2], [4], [3], [1], [2], [3], [1], [4], [2], [1], [3], [2], [4], [3], [1], [4], [3]]\n"
     ]
    }
   ],
   "source": [
    "BASE_DIR = '/home/susung/Desktop/OMR_Response/'\n",
    "answersheet = omr.OMR_Sheet(BASE_DIR+\"SCAN0001.JPG\")\n",
    "answersheet.find_markers(800,1000)\n",
    "vertical, horizontal = answersheet.sort_points()\n",
    "latticepoint = answersheet.lattice()\n",
    "answer = omr.AnswerSheet(answersheet.read_response(answersheet=True))"
   ]
  },
  {
   "cell_type": "code",
   "execution_count": 3,
   "metadata": {},
   "outputs": [
    {
     "name": "stdout",
     "output_type": "stream",
     "text": [
      "correct:  True | id:  2014311254 | score: 20\n",
      "correct:  True | id:  2012311337 | score: 5\n",
      "correct:  True | id:  2014311254 | score: 20\n",
      "correct:  True | id:  2012311337 | score: 5\n",
      "correct:  True | id:  2012311337 | score: 5\n",
      "correct:  True | id:  2012311337 | score: 5\n",
      "correct:  True | id:  2012311337 | score: 5\n",
      "correct:  True | id:  2012311337 | score: 5\n",
      "correct:  True | id:  2014311254 | score: 20\n",
      "correct:  True | id:  2014311254 | score: 20\n",
      "correct:  True | id:  2012311337 | score: 5\n",
      "correct:  True | id:  2014311254 | score: 20\n",
      "correct:  True | id:  2012311337 | score: 5\n",
      "correct:  True | id:  2012311337 | score: 5\n",
      "correct:  True | id:  2012311337 | score: 5\n",
      "correct:  True | id:  2014311254 | score: 20\n",
      "correct:  True | id:  2012311337 | score: 5\n",
      "correct:  True | id:  2012311337 | score: 5\n",
      "Finished!\n"
     ]
    }
   ],
   "source": [
    "filenames = os.listdir(BASE_DIR)\n",
    "sheet = omr.OMR_Sheet()\n",
    "for filename in filenames:\n",
    "    sheet.load_sheet(BASE_DIR+filename)\n",
    "\n",
    "    sheet.find_markers(800,1000)\n",
    "    vertical, horizontal = sheet.sort_points()\n",
    "    latticepoint = sheet.lattice()\n",
    "\n",
    "    id_str, ans_str = sheet.read_response(threshold=220)\n",
    "    score, ans = answer.mark_score(ans_str)\n",
    "    print(\"correct: %s | id:%12s | score: %d\"%(sheet.is_correct, id_str, score))\n",
    "\n",
    "print('Finished!')"
   ]
  },
  {
   "cell_type": "code",
   "execution_count": 4,
   "metadata": {},
   "outputs": [
    {
     "data": {
      "text/plain": [
       "(1652, 2328)"
      ]
     },
     "execution_count": 4,
     "metadata": {},
     "output_type": "execute_result"
    }
   ],
   "source": [
    "sheet.img.shape"
   ]
  }
 ],
 "metadata": {
  "kernelspec": {
   "display_name": "Python 3",
   "language": "python",
   "name": "python3"
  },
  "language_info": {
   "codemirror_mode": {
    "name": "ipython",
    "version": 3
   },
   "file_extension": ".py",
   "mimetype": "text/x-python",
   "name": "python",
   "nbconvert_exporter": "python",
   "pygments_lexer": "ipython3",
   "version": "3.5.2"
  }
 },
 "nbformat": 4,
 "nbformat_minor": 2
}
