{
 "cells": [
  {
   "cell_type": "code",
   "execution_count": 1,
   "metadata": {},
   "outputs": [],
   "source": [
    "import matplotlib.pyplot as plt\n",
    "import OMR_base_class as omr\n",
    "import os"
   ]
  },
  {
   "cell_type": "code",
   "execution_count": 2,
   "metadata": {
    "scrolled": false
   },
   "outputs": [
    {
     "name": "stdout",
     "output_type": "stream",
     "text": [
      "<class 'numpy.ndarray'>\n",
      "76\n",
      "Solutions:  [[2], [4], [3], [1], [3], [2], [2], [4], [4], [4], [3], [2]]\n"
     ]
    }
   ],
   "source": [
    "BASE_DIR = '/home/susung/Desktop/scan/'\n",
    "answersheet = omr.OMR_Scanner(BASE_DIR+\"SCAN0003.JPG\")\n",
    "answersheet.find_markers(min_area=700,max_area=1400,threshold=140)\n",
    "vertical, horizontal = answersheet.sort_points()\n",
    "latticepoint = answersheet.lattice()\n",
    "answer = omr.AnswerSheet(answersheet.read_response(problem_cnt=12, answersheet=True))\n",
    "# answersheet.show_sheet().show()"
   ]
  },
  {
   "cell_type": "code",
   "execution_count": 3,
   "metadata": {
    "scrolled": true
   },
   "outputs": [
    {
     "name": "stdout",
     "output_type": "stream",
     "text": [
      "76\n",
      "correct:  True | id:             | score: 12\n",
      "76\n",
      "correct:  True | id:           6 | score: 12\n",
      "Finished!\n"
     ]
    }
   ],
   "source": [
    "filenames = os.listdir(BASE_DIR)\n",
    "sheet = omr.OMR_Scanner()\n",
    "for filename in filenames:\n",
    "    sheet.load_sheet(BASE_DIR+filename)\n",
    "\n",
    "    sheet.find_markers(min_area=700,max_area=1400,threshold=140)\n",
    "    vertical, horizontal = sheet.sort_points()\n",
    "    latticepoint = sheet.lattice()\n",
    "\n",
    "    id_str, ans_str = sheet.read_response(threshold=220, problem_cnt=12)\n",
    "    score, ans = answer.mark_score(ans_str)\n",
    "    print(\"correct: %s | id:%12s | score: %d\"%(sheet.is_correct, id_str, score))\n",
    "\n",
    "print('Finished!')"
   ]
  },
  {
   "cell_type": "code",
   "execution_count": 4,
   "metadata": {},
   "outputs": [
    {
     "data": {
      "text/plain": [
       "(1652, 2328)"
      ]
     },
     "execution_count": 4,
     "metadata": {},
     "output_type": "execute_result"
    }
   ],
   "source": [
    "answersheet.img.shape"
   ]
  },
  {
   "cell_type": "code",
   "execution_count": null,
   "metadata": {},
   "outputs": [],
   "source": []
  }
 ],
 "metadata": {
  "kernelspec": {
   "display_name": "Python 3",
   "language": "python",
   "name": "python3"
  },
  "language_info": {
   "codemirror_mode": {
    "name": "ipython",
    "version": 3
   },
   "file_extension": ".py",
   "mimetype": "text/x-python",
   "name": "python",
   "nbconvert_exporter": "python",
   "pygments_lexer": "ipython3",
   "version": "3.5.2"
  }
 },
 "nbformat": 4,
 "nbformat_minor": 2
}
